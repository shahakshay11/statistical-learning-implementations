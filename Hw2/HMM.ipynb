{
 "cells": [
  {
   "cell_type": "code",
   "execution_count": 3,
   "metadata": {
    "collapsed": true,
    "deletable": true,
    "editable": true
   },
   "outputs": [],
   "source": [
    "import numpy as np"
   ]
  },
  {
   "cell_type": "code",
   "execution_count": 4,
   "metadata": {
    "collapsed": false,
    "deletable": true,
    "editable": true
   },
   "outputs": [],
   "source": [
    "pi_1 = np.array([0.0,1.0,0.0,0.0])\n",
    "a_1 = np.array([[1.0,0.0,0.0,0.0],\n",
    "                [0.0,0.0,0.0,1.0],\n",
    "                [0.0,0.4,0.3,0.3],\n",
    "                [0.3,0.2,0.2,0.3]\n",
    "               ])\n",
    "b_1 = np.array([[1.0,0.0,0.0,0.0,0.0],\n",
    "                [0.0,0.5,0.5,0.0,0.0],\n",
    "                [0.0,0.2,0.2,0.3,0.3],\n",
    "                [0.0,0.0,0.0,0.5,0.5]\n",
    "               ])\n",
    "\n",
    "pi_2 = np.array([0.0,0.0,0.0,1.0])\n",
    "a_2 = np.array([[1.0,0.0,0.0,0.0],\n",
    "                [0.1,0.3,0.5,0.1],\n",
    "                [0.1,0.4,0.3,0.2],\n",
    "                [0.1,0.4,0.2,0.3]\n",
    "               ])\n",
    "b_2 = np.array([[1.0,0.0,0.0,0.0,0.0],\n",
    "                [0.0,0.0,0.5,0.0,0.5],\n",
    "                [0.0,0.0,0.5,0.5,0.0],\n",
    "                [0.0,0.5,0.0,0.0,0.5]\n",
    "               ])\n",
    "\n",
    "sequences_map = {'S':0,'A':1,'B':2,'C':3,'D':4}\n",
    "\n",
    "reverse_sequences_map = dict((v,k) for k,v in sequences_map.items())\n",
    "\n",
    "states = [0,1,2,3]"
   ]
  },
  {
   "cell_type": "markdown",
   "metadata": {
    "deletable": true,
    "editable": true
   },
   "source": [
    "Part1 - Generation of sequences of observations from HMM with $\\lambda_1$"
   ]
  },
  {
   "cell_type": "code",
   "execution_count": 5,
   "metadata": {
    "collapsed": false,
    "deletable": true,
    "editable": true
   },
   "outputs": [
    {
     "name": "stdout",
     "output_type": "stream",
     "text": [
      "Generated sequences are\n",
      "['B', 'D', 'D', 'B', 'D', 'B', 'D', 'A', 'C', 'D', 'D', 'D', 'B', 'A', 'D', 'D', 'C', 'C', 'A', 'D', 'D', 'C', 'C', 'D', 'C', 'A', 'C', 'A', 'D', 'S']\n",
      "['B', 'C', 'C', 'C', 'D', 'A', 'D', 'S']\n",
      "['A', 'C', 'D', 'B', 'D', 'C', 'C', 'C', 'S']\n",
      "['A', 'C', 'A', 'D', 'B', 'D', 'D', 'B', 'D', 'D', 'D', 'A', 'A', 'C', 'A', 'D', 'S']\n",
      "['B', 'C', 'A', 'D', 'A', 'D', 'S']\n",
      "['A', 'D', 'C', 'A', 'D', 'D', 'D', 'C', 'B', 'D', 'S']\n",
      "['A', 'D', 'A', 'D', 'S']\n",
      "['A', 'C', 'C', 'D', 'B', 'D', 'B', 'D', 'B', 'C', 'B', 'D', 'B', 'D', 'A', 'D', 'S']\n",
      "['B', 'C', 'S']\n",
      "['B', 'D', 'A', 'D', 'B', 'D', 'D', 'S']\n"
     ]
    }
   ],
   "source": [
    "def gen_sequences(b,a):\n",
    "    gen_sequences = []\n",
    "    for _ in range(10):\n",
    "        sequences = []\n",
    "        q = 1\n",
    "        while True:\n",
    "            bq = np.nonzero(b[q])[0]\n",
    "            obs=np.random.choice(bq)\n",
    "            sequences.append(reverse_sequences_map[obs])\n",
    "            if obs == 0:\n",
    "                break\n",
    "            aq = np.nonzero(a[q])[0]\n",
    "            q = np.random.choice(aq)\n",
    "\n",
    "        gen_sequences.append(sequences)\n",
    "    return gen_sequences\n",
    "\n",
    "generating_sequences = gen_sequences(b_1,a_1)\n",
    "print(\"Generated sequences are\")\n",
    "for i in generating_sequences:\n",
    "    print(i,end=\"\\n\")\n",
    "#print(generating_sequences)"
   ]
  },
  {
   "cell_type": "code",
   "execution_count": 9,
   "metadata": {
    "collapsed": false,
    "deletable": true,
    "editable": true
   },
   "outputs": [],
   "source": [
    "def forward_hmm_prob(pi,a,b,N,obs):\n",
    "    T = len(obs)\n",
    "    forward = np.zeros((N,T))\n",
    "    for s in states:\n",
    "        forward[s,0] = pi[s] * b[s][obs[0]]\n",
    "    \n",
    "    for t in range(1,T):\n",
    "        for s in range(0,N):\n",
    "            sm = 0\n",
    "            for k in range(0,N):\n",
    "                sm += forward[k,t-1] * a[k][s] * b[s][obs[t]]\n",
    "            forward[s,t] = sm\n",
    "    \n",
    "    forward_prob = np.sum(forward[:,T-1])\n",
    "    return forward_prob"
   ]
  },
  {
   "cell_type": "code",
   "execution_count": 10,
   "metadata": {
    "collapsed": false,
    "deletable": true,
    "editable": true
   },
   "outputs": [
    {
     "name": "stdout",
     "output_type": "stream",
     "text": [
      "forward_hmm_1_prob 3.762855e-05\n",
      "forward_hmm_2_prob 8.53125e-06\n",
      "HMM 1\n",
      "forward_hmm_1_prob 0.075\n",
      "forward_hmm_2_prob 0.0\n",
      "HMM 1\n",
      "forward_hmm_1_prob 3.98671632e-06\n",
      "forward_hmm_2_prob 0.0\n",
      "HMM 1\n",
      "forward_hmm_1_prob 0.01125\n",
      "forward_hmm_2_prob 0.0015000000000000005\n",
      "HMM 1\n",
      "forward_hmm_1_prob 0.0042\n",
      "forward_hmm_2_prob 0.00016250000000000002\n",
      "HMM 1\n",
      "forward_hmm_1_prob 0.0\n",
      "forward_hmm_2_prob 0.005750000000000001\n",
      "HMM 2\n",
      "forward_hmm_1_prob 0.0\n",
      "forward_hmm_2_prob 0.015000000000000003\n",
      "HMM 2\n",
      "forward_hmm_1_prob 0.0\n",
      "forward_hmm_2_prob 1.4033509570312503e-12\n",
      "HMM 2\n",
      "forward_hmm_1_prob 0.0\n",
      "forward_hmm_2_prob 0.0035000000000000005\n",
      "HMM 2\n",
      "forward_hmm_1_prob 0.0\n",
      "forward_hmm_2_prob 3.8390625e-06\n",
      "HMM 2\n"
     ]
    }
   ],
   "source": [
    "#Part2 - Forward algorithm\n",
    "sequences = [['A','D','C','B','D','C','C','S'],\n",
    "             ['B','D','S'],\n",
    "             ['B','C','C','B','D','D','C','A','C','S'],\n",
    "             ['A','C','D','S'],\n",
    "             ['A','D','A','C','S'],\n",
    "             ['D','B','B','S'],\n",
    "             ['A','B','S'],\n",
    "             ['D','D','B','D','D','B','A','C','C','D','A','B','B','C','D','B','B','B','S'],\n",
    "             ['D','B','D','S'],\n",
    "             ['A','A','A','A','D','C','B','S']\n",
    "            ]\n",
    "\n",
    "N = 4\n",
    "\n",
    "for sequence in sequences:\n",
    "    new_seq = [sequences_map[i] for i in sequence]\n",
    "    forward_hmm_1_prob = forward_hmm_prob(pi_1,a_1,b_1,N,new_seq)\n",
    "    forward_hmm_2_prob = forward_hmm_prob(pi_2,a_2,b_2,N,new_seq)\n",
    "    print(\"forward_hmm_1_prob\",forward_hmm_1_prob)\n",
    "    print(\"forward_hmm_2_prob\",forward_hmm_2_prob)\n",
    "    if forward_hmm_1_prob > forward_hmm_2_prob:\n",
    "        print(\"HMM 1\")\n",
    "    else:\n",
    "        print(\"HMM 2\")"
   ]
  },
  {
   "cell_type": "code",
   "execution_count": 11,
   "metadata": {
    "collapsed": false,
    "deletable": true,
    "editable": true
   },
   "outputs": [
    {
     "name": "stdout",
     "output_type": "stream",
     "text": [
      "Sequence ['A', 'D', 'C', 'B', 'D', 'C', 'C', 'S']\n",
      "[4, 2, 3, 2, 2, 3, 3, 1]\n",
      "Sequence ['B', 'D', 'S']\n",
      "[1, 1, 1]\n",
      "Sequence ['B', 'C', 'C', 'B', 'D', 'D', 'C', 'A', 'C', 'S']\n",
      "[1, 1, 1, 1, 1, 1, 1, 1, 1, 1]\n",
      "Sequence ['A', 'C', 'D', 'S']\n",
      "[4, 3, 2, 1]\n",
      "Sequence ['A', 'D', 'A', 'C', 'S']\n",
      "[4, 4, 4, 3, 1]\n",
      "Sequence ['D', 'B', 'B', 'S']\n",
      "[4, 2, 3, 1]\n",
      "Sequence ['A', 'B', 'S']\n",
      "[4, 2, 1]\n",
      "Sequence ['D', 'D', 'B', 'D', 'D', 'B', 'A', 'C', 'C', 'D', 'A', 'B', 'B', 'C', 'D', 'B', 'B', 'B', 'S']\n",
      "[4, 2, 3, 2, 2, 3, 4, 3, 3, 4, 4, 2, 2, 3, 2, 3, 2, 3, 1]\n",
      "Sequence ['D', 'B', 'D', 'S']\n",
      "[4, 2, 2, 1]\n",
      "Sequence ['A', 'A', 'A', 'A', 'D', 'C', 'B', 'S']\n",
      "[4, 4, 4, 4, 2, 3, 2, 1]\n"
     ]
    }
   ],
   "source": [
    "#Part3 - Viterbi Algorithm\n",
    "def viterbi_hmm(pi,a,b,N,obs):\n",
    "    T = len(obs)\n",
    "    viterbi = np.zeros((N,T))\n",
    "    backpointer = np.zeros((N,T),dtype=int)\n",
    "    for s in states:\n",
    "        viterbi[s,0] = pi[s] * b[s][obs[0]]\n",
    "        backpointer[s,0] = 0\n",
    "    \n",
    "    for t in range(1,T):\n",
    "        for s in range(N):\n",
    "            max_arr = np.array([])\n",
    "            backpointer_max = np.array([])\n",
    "            for k in range(0,N):\n",
    "                max_arr = np.append(max_arr,viterbi[k,t-1] * a[k][s] * b[s][obs[t]])\n",
    "                backpointer_max = np.append(backpointer_max,viterbi[k,t-1] * a[k][s] * b[s][obs[t]])\n",
    "            viterbi[s,t] = max(max_arr)\n",
    "            backpointer[s,t] = np.argmax(backpointer_max)\n",
    "    \n",
    "    bestpathprob = np.max(viterbi[:,T-1])\n",
    "    bestpathpointer = np.argmax(viterbi[:,T-1])\n",
    "    \n",
    "    qt_s = int(bestpathpointer)\n",
    "    \n",
    "    j = T-1\n",
    "    best_path = []\n",
    "    while j >= 0:\n",
    "        best_path.append(qt_s+1)\n",
    "        qt_s = int(backpointer[qt_s][j])\n",
    "        j -=1\n",
    "    best_path.reverse()\n",
    "    return best_path,bestpathprob\n",
    "\n",
    "for sequence in sequences:\n",
    "    print(\"Sequence\",sequence)\n",
    "    new_seq = [sequences_map[i] for i in sequence]\n",
    "    print(viterbi_hmm(pi_2,a_2,b_2,N,new_seq)[0])"
   ]
  },
  {
   "cell_type": "code",
   "execution_count": null,
   "metadata": {
    "collapsed": true,
    "deletable": true,
    "editable": true
   },
   "outputs": [],
   "source": []
  }
 ],
 "metadata": {
  "kernelspec": {
   "display_name": "fsl_env",
   "language": "python",
   "name": "fsl_env"
  },
  "language_info": {
   "codemirror_mode": {
    "name": "ipython",
    "version": 3
   },
   "file_extension": ".py",
   "mimetype": "text/x-python",
   "name": "python",
   "nbconvert_exporter": "python",
   "pygments_lexer": "ipython3",
   "version": "3.6.4"
  }
 },
 "nbformat": 4,
 "nbformat_minor": 2
}
