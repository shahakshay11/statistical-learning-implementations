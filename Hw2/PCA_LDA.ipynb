{
 "cells": [
  {
   "cell_type": "code",
   "execution_count": 3,
   "metadata": {
    "collapsed": false,
    "deletable": true,
    "editable": true
   },
   "outputs": [
    {
     "data": {
      "text/plain": [
       "<Figure size 640x480 with 1 Axes>"
      ]
     },
     "metadata": {},
     "output_type": "display_data"
    }
   ],
   "source": [
    "#Imports\n",
    "import matplotlib.pyplot as plt\n",
    "import numpy as np\n",
    "from numpy import linalg as la\n",
    "\n",
    "import sklearn\n",
    "from sklearn.decomposition import PCA\n",
    "from sklearn.decomposition import TruncatedSVD\n",
    "from sklearn.preprocessing import StandardScaler\n",
    "#loading the data from the load_mnist.py\n",
    "%run load_mnist.py"
   ]
  },
  {
   "cell_type": "code",
   "execution_count": 4,
   "metadata": {
    "collapsed": false,
    "deletable": true,
    "editable": true
   },
   "outputs": [],
   "source": [
    "# Preparing the data\n",
    "trX, trY, tsX, tsY = mnist(noTrSamples=400,\n",
    "                               noTsSamples=100, digit_range=[5, 8],\n",
    "                               noTrPerClass=200, noTsPerClass=50)\n",
    "trX = trX.T\n",
    "trY = trY.T\n",
    "\n",
    "tsX = tsX.T\n",
    "tsY = tsY.T\n",
    "\n",
    "trX_class_5 = trX[np.where(trY == 5)[0]]\n",
    "trX_class_8 = trX[np.where(trY == 8)[0]]\n",
    "tsX_class_5 = tsX[np.where(tsY == 5)[0]]\n",
    "tsX_class_8 = tsX[np.where(tsY == 8)[0]]"
   ]
  },
  {
   "cell_type": "code",
   "execution_count": null,
   "metadata": {
    "collapsed": false,
    "deletable": true,
    "editable": true
   },
   "outputs": [],
   "source": [
    "def subtract_mean(arr):\n",
    "\tmu = arr.mean(axis = 1)\n",
    "\tfor idx in range(arr.shape[0]):\n",
    "\t\tarr[idx,:] -= mu[idx]\n",
    "\treturn arr\n",
    "\n",
    "def PCA2(data):\n",
    "    print(\"--------------------------- PCA ---------------------------\")\n",
    "    data = subtract_mean(data)\n",
    "    cov_trX = np.cov(data)\n",
    "    eigval, eigvec = la.eigh(cov_trX)\n",
    "    eigv = eigval\n",
    "    idx = np.argsort(eigval)[::-1]\n",
    "    eigvec = eigvec[:,idx]\n",
    "    eigvec = eigvec[:,:10]\n",
    "    eigval = eigval[idx]\n",
    "    eigval = eigval[:10]\n",
    "    print(\"eigvec\",eigvec.shape,eigval.shape,data.shape)\n",
    "    pca_data = np.dot(eigvec.T,data)\n",
    "    print(\"pca_data\",pca_data.shape)\n",
    "    return pca_data,eigval,eigvec"
   ]
  },
  {
   "cell_type": "code",
   "execution_count": null,
   "metadata": {
    "collapsed": false,
    "deletable": true,
    "editable": true
   },
   "outputs": [],
   "source": [
    "trX = trX.T\n",
    "cov_trX = np.cov(trX)\n",
    "print(cov_trX.shape)\n",
    "pca_data,eigval,eigvec = PCA2(trX)\n",
    "cov_pca = np.cov(pca_data)\n",
    "print(\"eigval\",eigval)\n",
    "print(cov_pca.shape)\n",
    "print(\"Total variance retained: \" + str((np.trace(cov_pca)/np.trace(cov_trX))*100) + \" %\")\n",
    "plt.matshow(cov_pca)\n",
    "data = eigvec.dot(pca_data)\n",
    "print(data.shape)\n",
    "# for x in range(0,400,10):\n",
    "#     plt.imshow((data[:,x]).reshape(28,28))\n",
    "#     plt.show()"
   ]
  },
  {
   "cell_type": "code",
   "execution_count": null,
   "metadata": {
    "collapsed": true,
    "deletable": true,
    "editable": true
   },
   "outputs": [],
   "source": [
    "#Train test split\n",
    "def plot_covariance(pca_obj):\n",
    "    plt.matshow(pca_obj.get_covariance())"
   ]
  },
  {
   "cell_type": "code",
   "execution_count": 5,
   "metadata": {
    "collapsed": true,
    "deletable": true,
    "editable": true
   },
   "outputs": [],
   "source": [
    "def run_PCA(inp,k=10):\n",
    "    pca = PCA(n_components=int(k))\n",
    "    object_concept_matrix = pca.fit_transform(inp)\n",
    "    Vt = pca.components_\n",
    "    return object_concept_matrix,Vt"
   ]
  },
  {
   "cell_type": "code",
   "execution_count": null,
   "metadata": {
    "collapsed": true,
    "deletable": true,
    "editable": true
   },
   "outputs": [],
   "source": [
    "# def run_PCA(inp,k=10):\n",
    "#     #inp = StandardScaler().fit_transform(inp)\n",
    "#     #inp = subtract_mean(inp)\n",
    "#     #print(inp)\n",
    "#     pca = PCA(n_components=int(k))\n",
    "\n",
    "#     object_concept_matrix = pca.fit_transform(inp)\n",
    "#     #print(\"ocs\",object_concept_matrix.shape)\n",
    "#     Vt = pca.components_\n",
    "\n",
    "#     #original sigma is linear array of k eigen values, so we need to construct a diagonal matrix\n",
    "#     S  = np.diag(pca.singular_values_)\n",
    "#     #print(\"singular values\",pca.singular_values_)\n",
    "#     #print(\"S\",S)\n",
    "\n",
    "#     U  = inp @ Vt.T\n",
    "#     print(pca.explained_variance_,pca.explained_variance_ratio_)\n",
    "    \n",
    "    \n",
    "#     #cov_pca = pca.get_covariance()\n",
    "    \n",
    "#     cov_pca = object_concept_matrix.T @ object_concept_matrix\n",
    "#     #print(cov_pca)\n",
    "#     plt.matshow(cov_pca)\n",
    "    \n",
    "#     #Plotting\n",
    "    \n",
    "    \n",
    "#     #cov_trX = np.cov(inp)\n",
    "#     #print(\"Total variance retained: \" + str((np.trace(cov_pca)/np.trace(cov_trX))*100) + \" %\")\n",
    "    \n",
    "#     #plot_covariance(pca)\n",
    "#     #U = Vt.T @ inp\n",
    "#     #print(U.shape,inp.shape,Vt.shape)\n",
    "#     #pca_data_our = U.T @ inp\n",
    "    \n",
    "# #     print(\"Ref\")\n",
    "# #     print(pca_data[:5])\n",
    "    \n",
    "# #     pca_data2 = np.dot(object_concept_matrix.T,inp)\n",
    "# #     print(\"our\")\n",
    "# #     print(pca_data2[:5])\n",
    "    \n",
    "# #     cov_pca_our = np.cov(pca_data2)\n",
    "    \n",
    "    \n",
    "#     return U,S,Vt"
   ]
  },
  {
   "cell_type": "code",
   "execution_count": 6,
   "metadata": {
    "collapsed": true,
    "deletable": true,
    "editable": true
   },
   "outputs": [],
   "source": [
    "def plot_images(data,title):\n",
    "    f = plt.figure()\n",
    "    fig, ax = plt.subplots(1, 5)\n",
    "    fig.suptitle('Images for %s'%title)\n",
    "    for i in range(0,5):\n",
    "        #ax = f.add_subplot(1,2, x)\n",
    "        #fig, ax = plt.subplots(1, 5)\n",
    "        #TODO  if you can rescale, then do it\n",
    "        ax[i].imshow((data[i,:]).reshape(28,28))\n",
    "    plt.show()"
   ]
  },
  {
   "cell_type": "code",
   "execution_count": 7,
   "metadata": {
    "collapsed": false,
    "deletable": true,
    "editable": true
   },
   "outputs": [
    {
     "name": "stdout",
     "output_type": "stream",
     "text": [
      "(400, 784)\n",
      "(200, 784)\n"
     ]
    },
    {
     "data": {
      "image/png": "[encoded data removed]",
      "text/plain": [
       "<Figure size 288x288 with 1 Axes>"
      ]
     },
     "metadata": {
      "needs_background": "light"
     },
     "output_type": "display_data"
    },
    {
     "data": {
      "text/plain": [
       "<Figure size 432x288 with 0 Axes>"
      ]
     },
     "metadata": {},
     "output_type": "display_data"
    },
    {
     "data": {
      "image/png": "[encoded data removed]",
      "text/plain": [
       "<Figure size 432x288 with 5 Axes>"
      ]
     },
     "metadata": {
      "needs_background": "light"
     },
     "output_type": "display_data"
    },
    {
     "data": {
      "text/plain": [
       "<Figure size 432x288 with 0 Axes>"
      ]
     },
     "metadata": {},
     "output_type": "display_data"
    },
    {
     "data": {
      "image/png": "[encoded data removed]",
      "text/plain": [
       "<Figure size 432x288 with 5 Axes>"
      ]
     },
     "metadata": {
      "needs_background": "light"
     },
     "output_type": "display_data"
    },
    {
     "data": {
      "text/plain": [
       "<Figure size 432x288 with 0 Axes>"
      ]
     },
     "metadata": {},
     "output_type": "display_data"
    },
    {
     "data": {
      "image/png": "[encoded data removed]",
      "text/plain": [
       "<Figure size 432x288 with 5 Axes>"
      ]
     },
     "metadata": {
      "needs_background": "light"
     },
     "output_type": "display_data"
    },
    {
     "data": {
      "text/plain": [
       "<Figure size 432x288 with 0 Axes>"
      ]
     },
     "metadata": {},
     "output_type": "display_data"
    },
    {
     "data": {
      "image/png": "[encoded data removed]",
      "text/plain": [
       "<Figure size 432x288 with 5 Axes>"
      ]
     },
     "metadata": {
      "needs_background": "light"
     },
     "output_type": "display_data"
    }
   ],
   "source": [
    "#Run PCA(using SVD) on the object-feature matrix, Get the covariance matrix (U.sigma.Vt)\n",
    "#PCA on train data\n",
    "pca_transf_data,Vtrain = run_PCA(trX)\n",
    "#print(pca_transf_data.shape)\n",
    "\n",
    "pca_transf_testdata,Vtest = run_PCA(tsX)\n",
    "\n",
    "#Plot covariance matrix\n",
    "cov_pca = pca_transf_data.T @ pca_transf_data #shape k x k (10x10)\n",
    "plt.matshow(cov_pca)\n",
    "plt.title('Covariance matrix for PCA transformed train data')\n",
    "\n",
    "#Plot reconstructed images and original images\n",
    "reconstructed_data = pca_transf_data @ Vtrain\n",
    "\n",
    "print(reconstructed_data.shape)\n",
    "\n",
    "# trX_class_5 = trX[np.where(trY == 5)[0]]\n",
    "# trX_class_8 = trX[np.where(trY == 5)[0]]\n",
    "reconstructed_data_class_5 = reconstructed_data[np.where(trY == 5)[0]]\n",
    "reconstructed_data_class_8 = reconstructed_data[np.where(trY == 8)[0]]\n",
    "\n",
    "print(reconstructed_data_class_5.shape)\n",
    "#Plotting digit 5 transformed images\n",
    "\n",
    "plot_images(trX_class_5,'Original Images for Digit 5')\n",
    "plot_images(reconstructed_data_class_5,'PCA Reconstructed Images for Digit 5')\n",
    "\n",
    "plot_images(trX_class_8,'Original Images for Digit 8')\n",
    "plot_images(reconstructed_data_class_8,'PCA Reconstructed Images for Digit 8')\n",
    "#Utest,Stest,Vtest = run_PCA(tsX)"
   ]
  },
  {
   "cell_type": "code",
   "execution_count": null,
   "metadata": {
    "collapsed": true,
    "deletable": true,
    "editable": true
   },
   "outputs": [],
   "source": [
    "#Reconstructing the original images frm PCA transformed data \n",
    "\n",
    "#Plot original images (5 & 8) \n",
    "\n",
    "#Plot PCA reconstructed images of 5 & 8"
   ]
  },
  {
   "cell_type": "markdown",
   "metadata": {
    "deletable": true,
    "editable": true
   },
   "source": [
    "#Implement Fisher Linear Discriminant - http://research.cs.tamu.edu/prism/lectures/pr/pr_l10.pdf\n",
    "https://sebastianraschka.com/Articles/2014_python_lda.html\n",
    "\n",
    "\n",
    "We have X and Y , Y being class label for 5 and 8\n",
    "\n",
    "To compute\n",
    "- Mean vectors for c1(5) and c2(8)\n",
    "- $$S_B = (m1 - m2)(m1-m2)^T $$\n",
    "- $$S_w = (m1 - m2)(m1-m2)^T $$\n",
    "\n",
    "Threshold criterion - \n",
    "\n"
   ]
  },
  {
   "cell_type": "code",
   "execution_count": 8,
   "metadata": {
    "collapsed": true,
    "deletable": true,
    "editable": true
   },
   "outputs": [],
   "source": [
    "def get_predictions(w,X,threshold):\n",
    "    projected_data = np.dot(X,w)\n",
    "    predicted_labels = np.select([projected_data <= threshold, projected_data>threshold], [np.zeros_like(projected_data), np.ones_like(projected_data)])\n",
    "    predicted_labels = np.array([5 if i[0] == 0 else 8 for i in predicted_labels.tolist()])\n",
    "    return predicted_labels"
   ]
  },
  {
   "cell_type": "code",
   "execution_count": 27,
   "metadata": {
    "collapsed": false,
    "deletable": true,
    "editable": true
   },
   "outputs": [
    {
     "name": "stdout",
     "output_type": "stream",
     "text": [
      "(10,)\n",
      "[[-0.36094107]\n",
      " [ 1.34416446]\n",
      " [-0.86134979]\n",
      " [-0.51627176]\n",
      " [-0.05584678]\n",
      " [ 0.13504023]\n",
      " [-0.09006156]\n",
      " [ 0.13476574]\n",
      " [ 0.02917728]\n",
      " [-0.04652501]] (10, 1)\n",
      "Sw1 [[ 7.17825685  2.40238436  1.10927278 -1.16834458  0.90966114 -0.93002535\n",
      "   0.11121117  0.02597825 -0.055785   -0.071241  ]\n",
      " [ 2.40238436  2.54561992  1.46072726  0.48700239 -0.24700711 -0.56432788\n",
      "   0.23512388 -0.06347429 -0.02296802 -0.1195903 ]\n",
      " [ 1.10927278  1.46072726  3.91261092 -0.33854979 -0.34390974  0.28238558\n",
      "  -0.56094049  0.28975001 -0.23708317 -0.13598445]\n",
      " [-1.16834458  0.48700239 -0.33854979  2.43545005 -0.28751445 -0.37058055\n",
      "   0.37651047  0.25127524  0.28080072  0.19396853]\n",
      " [ 0.90966114 -0.24700711 -0.34390974 -0.28751445  2.15629807  0.29478671\n",
      "   0.28134909  0.24406943 -0.53799201  0.1487163 ]\n",
      " [-0.93002535 -0.56432788  0.28238558 -0.37058055  0.29478671  2.42479703\n",
      "  -0.39164478 -0.06769583 -0.08575885  0.07983142]\n",
      " [ 0.11121117  0.23512388 -0.56094049  0.37651047  0.28134909 -0.39164478\n",
      "   1.1191115  -0.33025065 -0.22377391  0.21256276]\n",
      " [ 0.02597825 -0.06347429  0.28975001  0.25127524  0.24406943 -0.06769583\n",
      "  -0.33025065  1.36181111  0.15422232  0.13203134]\n",
      " [-0.055785   -0.02296802 -0.23708317  0.28080072 -0.53799201 -0.08575885\n",
      "  -0.22377391  0.15422232  1.09236744 -0.05354548]\n",
      " [-0.071241   -0.1195903  -0.13598445  0.19396853  0.1487163   0.07983142\n",
      "   0.21256276  0.13203134 -0.05354548  1.26920344]] (10, 10)\n",
      "Sw2 [[ 4.49912956 -1.43205604 -1.73106581  0.79565722 -0.94997593  1.02750848\n",
      "  -0.17622499  0.07130674  0.07684756  0.03765543]\n",
      " [-1.43205604  3.71324247  0.85486429  0.9009059   0.39714161  0.20129532\n",
      "   0.00699121 -0.29882035 -0.05547011  0.24466484]\n",
      " [-1.73106581  0.85486429  1.70942087 -0.55083135  0.24770252 -0.04975183\n",
      "   0.40579148 -0.05758912  0.28734686  0.05583583]\n",
      " [ 0.79565722  0.9009059  -0.55083135  2.2048016   0.22985023  0.51001547\n",
      "  -0.46950295 -0.11212374 -0.25067391 -0.24200763]\n",
      " [-0.94997593  0.39714161  0.24770252  0.22985023  2.13744373 -0.27970358\n",
      "  -0.29140839 -0.22901696  0.54125093 -0.15391285]\n",
      " [ 1.02750848  0.20129532 -0.04975183  0.51001547 -0.27970358  1.51181484\n",
      "   0.41596864  0.03129824  0.07787864 -0.06726592]\n",
      " [-0.17622499  0.00699121  0.40579148 -0.46950295 -0.29140839  0.41596864\n",
      "   1.52861221  0.35452508  0.22902941 -0.22094299]\n",
      " [ 0.07130674 -0.29882035 -0.05758912 -0.11212374 -0.22901696  0.03129824\n",
      "   0.35452508  1.12430739 -0.16208652 -0.11949138]\n",
      " [ 0.07684756 -0.05547011  0.28734686 -0.25067391  0.54125093  0.07787864\n",
      "   0.22902941 -0.16208652  1.21811294  0.05626043]\n",
      " [ 0.03765543  0.24466484  0.05583583 -0.24200763 -0.15391285 -0.06726592\n",
      "  -0.22094299 -0.11949138  0.05626043  0.70463398]]\n",
      "Sw [[ 1.16773864e+01  9.70328313e-01 -6.21793031e-01 -3.72687363e-01\n",
      "  -4.03147912e-02  9.74831312e-02 -6.50138298e-02  9.72849831e-02\n",
      "   2.10625579e-02 -3.35855760e-02]\n",
      " [ 9.70328313e-01  6.25886239e+00  2.31559155e+00  1.38790830e+00\n",
      "   1.50134506e-01 -3.63032558e-01  2.42115089e-01 -3.62294644e-01\n",
      "  -7.84381277e-02  1.25074538e-01]\n",
      " [-6.21793031e-01  2.31559155e+00  5.62203179e+00 -8.89381146e-01\n",
      "  -9.62072203e-02  2.32633750e-01 -1.55149008e-01  2.32160890e-01\n",
      "   5.02636896e-02 -8.01486207e-02]\n",
      " [-3.72687363e-01  1.38790830e+00 -8.89381146e-01  4.64025165e+00\n",
      "  -5.76642282e-02  1.39434916e-01 -9.29924775e-02  1.39151495e-01\n",
      "   3.01268123e-02 -4.80391008e-02]\n",
      " [-4.03147912e-02  1.50134506e-01 -9.62072203e-02 -5.76642282e-02\n",
      "   4.29374180e+00  1.50831235e-02 -1.00592955e-02  1.50524649e-02\n",
      "   3.25891422e-03 -5.19654411e-03]\n",
      " [ 9.74831312e-02 -3.63032558e-01  2.32633750e-01  1.39434916e-01\n",
      "   1.50831235e-02  3.93661186e+00  2.43238671e-02 -3.63975943e-02\n",
      "  -7.88021352e-03  1.25654971e-02]\n",
      " [-6.50138298e-02  2.42115089e-01 -1.55149008e-01 -9.29924775e-02\n",
      "  -1.00592955e-02  2.43238671e-02  2.64772371e+00  2.42744255e-02\n",
      "   5.25550272e-03 -8.38023028e-03]\n",
      " [ 9.72849831e-02 -3.62294644e-01  2.32160890e-01  1.39151495e-01\n",
      "   1.50524649e-02 -3.63975943e-02  2.42744255e-02  2.48611850e+00\n",
      "  -7.86419588e-03  1.25399559e-02]\n",
      " [ 2.10625579e-02 -7.84381277e-02  5.02636896e-02  3.01268123e-02\n",
      "   3.25891422e-03 -7.88021352e-03  5.25550272e-03 -7.86419588e-03\n",
      "   2.31048038e+00  2.71494675e-03]\n",
      " [-3.35855760e-02  1.25074538e-01 -8.01486207e-02 -4.80391008e-02\n",
      "  -5.19654411e-03  1.25654971e-02 -8.38023028e-03  1.25399559e-02\n",
      "   2.71494675e-03  1.97383742e+00]]\n",
      "(10, 10)\n",
      "(1, 10)\n",
      "[[-0.22712298]\n",
      " [ 1.02278213]\n",
      " [-0.91057568]\n",
      " [-0.74965754]\n",
      " [-0.0975632 ]\n",
      " [ 0.25532289]\n",
      " [-0.25396177]\n",
      " [ 0.40134013]\n",
      " [ 0.09479314]\n",
      " [-0.17667615]] (10, 1)\n",
      "[[-2.7559888]]\n",
      "[[2.7559888]]\n",
      "Threshold for LDA -3.9968028886505635e-15\n",
      "Training_Accuracy 94.25\n",
      "Testing_Accuracy 81.0\n"
     ]
    }
   ],
   "source": [
    "pca_transf_trdata_class_5 = pca_transf_data[np.where(trY == 5)[0]]\n",
    "pca_transf_trdata_class_8 = pca_transf_data[np.where(trY == 8)[0]]\n",
    "\n",
    "pca_transf_testdata_class_5 = pca_transf_testdata[np.where(tsY == 5)[0]]\n",
    "pca_transf_testdata_class_8 = pca_transf_testdata[np.where(tsY == 8)[0]]\n",
    "\n",
    "#mean of all the points of class 5\n",
    "g = np.mean(pca_transf_trdata_class_5,axis=0)\n",
    "print(g.shape)\n",
    "\n",
    "m1_bar = np.mean(pca_transf_trdata_class_5,axis=0).reshape(-1,1)\n",
    "#print(m1_bar,m1_bar.shape,m1_bar.T.shape)\n",
    "#m1_bar = m1_bar.T\n",
    "\n",
    "#mean of all the points of class 8\n",
    "m2_bar = np.mean(pca_transf_trdata_class_8,axis=0).reshape(-1,1)\n",
    "#m2_bar = m2_bar.T\n",
    "print(m2_bar,m2_bar.shape)\n",
    "\n",
    "#number of class 5 images\n",
    "n1 = int((trY == 5).sum())\n",
    "\n",
    "#number of class 8 images\n",
    "n2 = int((trY == 8).sum())\n",
    "\n",
    "#Sw1 square matrix for class5 data\n",
    "# Sw1 = np.zeros((10,10))\n",
    "# for i in pca_transf_trdata_class_5:\n",
    "#     y = i - m1_bar\n",
    "#     Sw1+= np.dot(y,y.T)\n",
    "# Sw1 = (1/n1)* Sw1\n",
    "# print('Sw1',Sw1)\n",
    "\n",
    "Sw1 = (1/n1)*np.dot(pca_transf_trdata_class_5.T - m1_bar,(pca_transf_trdata_class_5.T - m1_bar).T)\n",
    "print('Sw1',Sw1,Sw1.shape)\n",
    "\n",
    "Sw2 = (1/n2)*np.dot(pca_transf_trdata_class_8.T - m2_bar,(pca_transf_trdata_class_8.T - m2_bar).T)\n",
    "print('Sw2',Sw2)\n",
    "\n",
    "#Sw2 square matrix for class8 data\n",
    "# Sw2 = np.zeros((10,10))\n",
    "# for j in pca_transf_trdata_class_8:\n",
    "#     y = j - m2_bar\n",
    "#     Sw2+= np.dot(y,y.T)\n",
    "# Sw2 = (1/n2)* Sw2\n",
    "# print('Sw2',Sw2)\n",
    "\n",
    "Sw = Sw1 +  Sw2\n",
    "print(\"Sw\",Sw)\n",
    "\n",
    "#computing the direction of LDA in new projected space\n",
    "print(Sw.shape)\n",
    "print((m2_bar - m1_bar).T.shape)\n",
    "w = np.linalg.pinv(Sw) @ (m2_bar - m1_bar)\n",
    "print(w,w.shape)\n",
    "\n",
    "m1 = np.dot(w.T,m1_bar)\n",
    "m2 = np.dot(w.T,m2_bar)\n",
    "\n",
    "print(m1)\n",
    "print(m2)\n",
    "\n",
    "# m1 = m1[0][0]\n",
    "# m2 = m2[0][0]\n",
    "\n",
    "# print(\"m1\",m1)\n",
    "# print(\"m2\",m2)\n",
    "\n",
    "threshold = (m1[0][0] + m2[0][0]) / 2\n",
    "\n",
    "print(\"Threshold for LDA\",threshold)\n",
    "\n",
    "training_pred = get_predictions(w,pca_transf_data,threshold)\n",
    "training_accuracy = (training_pred == trY.flatten()).mean() * 100\n",
    "print(\"Training_Accuracy\",training_accuracy)\n",
    "\n",
    "test_pred = get_predictions(w,pca_transf_testdata,threshold)\n",
    "testing_accuracy = (test_pred == tsY.flatten()).mean() * 100\n",
    "print(\"Testing_Accuracy\",testing_accuracy)"
   ]
  },
  {
   "cell_type": "code",
   "execution_count": null,
   "metadata": {
    "collapsed": true,
    "deletable": true,
    "editable": true
   },
   "outputs": [],
   "source": []
  }
 ],
 "metadata": {
  "kernelspec": {
   "display_name": "fsl_env",
   "language": "python",
   "name": "fsl_env"
  },
  "language_info": {
   "codemirror_mode": {
    "name": "ipython",
    "version": 3
   },
   "file_extension": ".py",
   "mimetype": "text/x-python",
   "name": "python",
   "nbconvert_exporter": "python",
   "pygments_lexer": "ipython3",
   "version": "3.6.4"
  }
 },
 "nbformat": 4,
 "nbformat_minor": 2
}
