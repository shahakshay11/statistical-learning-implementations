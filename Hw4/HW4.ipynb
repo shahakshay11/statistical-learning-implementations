{
 "cells": [
  {
   "cell_type": "code",
   "execution_count": 23,
   "metadata": {
    "collapsed": true,
    "deletable": true,
    "editable": true
   },
   "outputs": [],
   "source": [
    "import math\n",
    "import matplotlib.pyplot as plt\n",
    "import numpy as np\n",
    "from sklearn.cluster import KMeans\n",
    "%matplotlib inline"
   ]
  },
  {
   "cell_type": "code",
   "execution_count": 2,
   "metadata": {
    "collapsed": false,
    "deletable": true,
    "editable": true
   },
   "outputs": [
    {
     "data": {
      "text/plain": [
       "'\\nAlgorithm for kmeans\\n1) Read the binomial_flips into list\\n2) Apply Kmeans with 3 clusters and get the centroids\\n3) Get the clusterwise distribution.\\n4) Prior probabilities - number of points per cluster / 1000\\n5) Head probabilities - number of heads per cluster / 20\\n'"
      ]
     },
     "execution_count": 2,
     "metadata": {},
     "output_type": "execute_result"
    }
   ],
   "source": [
    "\"\"\"\n",
    "Algorithm for kmeans\n",
    "1) Read the binomial_flips into list\n",
    "2) Apply Kmeans with 3 clusters and get the centroids\n",
    "3) Get the clusterwise distribution.\n",
    "4) Prior probabilities - number of points per cluster / 1000\n",
    "5) Head probabilities - number of heads per cluster / 20\n",
    "\"\"\""
   ]
  },
  {
   "cell_type": "code",
   "execution_count": 3,
   "metadata": {
    "collapsed": false,
    "deletable": true,
    "editable": true
   },
   "outputs": [
    {
     "data": {
      "text/plain": [
       "(1000, 1)"
      ]
     },
     "execution_count": 3,
     "metadata": {},
     "output_type": "execute_result"
    }
   ],
   "source": [
    "def get_x(fname):\n",
    "    f = open(fname)\n",
    "    return np.array([int(x) for x in f.readlines()])\n",
    "\n",
    "x = get_x(\"Binomial_20_flips.txt\").reshape(-1,1)\n",
    "x.shape"
   ]
  },
  {
   "cell_type": "code",
   "execution_count": 7,
   "metadata": {
    "collapsed": false,
    "deletable": true,
    "editable": true
   },
   "outputs": [
    {
     "data": {
      "text/plain": [
       "'\\nAlgorithm for Binomial Mixture Model\\n1. ex = Compute the mean of the data points\\n2. Compute the mean and variance of the mixture distribution - 9.49, 9.50\\n3. Define the log likehood fn - 9.51 \\n4. Define the responsibility matrix fn - 9.56\\n5. Define the Nk\\n6. Define the EM iteration fn\\n'"
      ]
     },
     "execution_count": 7,
     "metadata": {},
     "output_type": "execute_result"
    }
   ],
   "source": [
    "\"\"\"\n",
    "Algorithm for Binomial Mixture Model\n",
    "1. ex = Compute the mean of the data points\n",
    "2. Compute the mean and variance of the mixture distribution - 9.49, 9.50\n",
    "3. Define the log likehood fn - 9.51 \n",
    "4. Define the responsibility matrix fn - 9.56\n",
    "5. Define the Nk\n",
    "6. Define the EM iteration fn\n",
    "\"\"\""
   ]
  },
  {
   "cell_type": "code",
   "execution_count": 8,
   "metadata": {
    "collapsed": true,
    "deletable": true,
    "editable": true
   },
   "outputs": [],
   "source": [
    "def initialize_params():\n",
    "    theta = np.array([np.random.uniform(0,1) for i in range(3)])\n",
    "    pi = np.array([np.random.uniform(0,1) for i in range(3)])\n",
    "    return theta, pi"
   ]
  },
  {
   "cell_type": "code",
   "execution_count": 9,
   "metadata": {
    "collapsed": false,
    "deletable": true,
    "editable": true
   },
   "outputs": [
    {
     "name": "stdout",
     "output_type": "stream",
     "text": [
      "[121.12277212 233.31979612 645.55743175] [0.91036537 0.2873495  0.76831227]\n"
     ]
    }
   ],
   "source": [
    "def E_step(data,pi,theta,no_of_clusters,no_of_tossses,no_of_experiments):\n",
    "    si_mat = np.zeros((no_of_experiments,no_of_clusters))\n",
    "    for i in range(no_of_experiments):\n",
    "        factorial_cmp = math.factorial(no_of_tossses) // (math.factorial(no_of_tossses - no_of_clusters) * math.factorial(no_of_clusters))\n",
    "        X = pi * factorial_cmp * (theta**data[i][0] * (1-theta)**(no_of_tossses - data[i][0]))\n",
    "        si_mat[i] = X / np.sum(X)\n",
    "    return si_mat"
   ]
  },
  {
   "cell_type": "code",
   "execution_count": 10,
   "metadata": {
    "collapsed": true,
    "deletable": true,
    "editable": true
   },
   "outputs": [],
   "source": [
    "def M_step(si_mat,data,no_of_experiments):\n",
    "    n_k = np.sum(si_mat,axis=0)\n",
    "    theta = (1/(20 * n_k)) * np.sum(si_mat * data,axis=0)\n",
    "    pi = n_k/no_of_experiments\n",
    "    return pi,theta"
   ]
  },
  {
   "cell_type": "code",
   "execution_count": 11,
   "metadata": {
    "collapsed": true,
    "deletable": true,
    "editable": true
   },
   "outputs": [],
   "source": [
    "def log_likelihood(data,pi,theta,no_of_clusters,no_of_tossses,no_of_experiments):\n",
    "    ll = 0\n",
    "    for i in range(no_of_experiments):\n",
    "        factorial_cmp = math.factorial(no_of_tossses) // (math.factorial(no_of_tossses - data[i][0]) * math.factorial(data[i][0]))\n",
    "        theta_cmp = theta**data[i][0] * ((1-theta)**((no_of_tossses - data[i][0])))\n",
    "        ll += (np.log(np.sum(factorial_cmp * theta_cmp * pi,axis=0)))\n",
    "    return ll"
   ]
  },
  {
   "cell_type": "code",
   "execution_count": 92,
   "metadata": {
    "collapsed": false,
    "deletable": true,
    "editable": true
   },
   "outputs": [],
   "source": [
    "#Plotting neg log likelihood\n",
    "def plot_neg_likelihood_vs_iterations(iterations,likelihood_list):\n",
    "    plt.plot(list(range(iterations-1)),likelihood_list)\n",
    "    plt.title(\"Negative Log Likelihood vs No. of Iterations\")\n",
    "    plt.xlabel(\"Iterations\")\n",
    "    plt.ylabel(\"Negative Log Likelihood\")\n",
    "    plt.show()"
   ]
  },
  {
   "cell_type": "code",
   "execution_count": 86,
   "metadata": {
    "collapsed": false,
    "deletable": true,
    "editable": true,
    "scrolled": true
   },
   "outputs": [],
   "source": [
    "def EM(x,pi,theta,no_of_clusters,no_of_experiments,no_of_tosses):\n",
    "    iterations = 0\n",
    "    ll = log_likelihood(x,pi,theta,no_of_clusters,no_of_tosses,no_of_experiments)\n",
    "    lls = [ll]\n",
    "    while 1:\n",
    "        si = E_step(x,pi,theta,no_of_clusters,no_of_tosses,no_of_experiments)\n",
    "        pi,theta = M_step(si,x,no_of_experiments)\n",
    "        ll = log_likelihood(x,pi,theta,no_of_clusters,no_of_tosses,no_of_experiments)\n",
    "        iterations+=1\n",
    "        if abs(lls[-1] - ll) < 0.00001:\n",
    "            break\n",
    "        lls.append(ll)\n",
    "\n",
    "    lls = [-x for x in lls[1:]]\n",
    "    return iterations,pi,theta,lls"
   ]
  },
  {
   "cell_type": "code",
   "execution_count": 88,
   "metadata": {
    "collapsed": true
   },
   "outputs": [],
   "source": [
    "def print_params(pi,theta):\n",
    "    for i in range(3):\n",
    "        print(\"Prior probability for coin%s:%s\"%(i+1,pi[i]))\n",
    "        print(\"Probability of head for coin%s:%s\"%(i+1,theta[i]))"
   ]
  },
  {
   "cell_type": "code",
   "execution_count": 93,
   "metadata": {
    "collapsed": false,
    "deletable": true,
    "editable": true
   },
   "outputs": [
    {
     "name": "stdout",
     "output_type": "stream",
     "text": [
      "Estimated Parameters by Kmeans clustering algorithm\n",
      "Prior probability for coin1:0.341\n",
      "Probability of head for coin1:0.6653958944281524\n",
      "Prior probability for coin2:0.212\n",
      "Probability of head for coin2:0.2646226415094358\n",
      "Prior probability for coin3:0.447\n",
      "Probability of head for coin3:0.8731543624161094\n",
      "#################################################\n",
      "Estimated Parameters by EM with random initialization\n",
      "Prior probability for coin1:0.482759911161668\n",
      "Probability of head for coin1:0.8522424168130606\n",
      "Prior probability for coin2:0.2025707261457843\n",
      "Probability of head for coin2:0.2586901834843252\n",
      "Prior probability for coin3:0.3146693626925456\n",
      "Probability of head for coin3:0.6656779880429029\n"
     ]
    },
    {
     "data": {
      "image/png": "[encoded data removed]",
      "text/plain": [
       "<Figure size 432x288 with 1 Axes>"
      ]
     },
     "metadata": {
      "needs_background": "light"
     },
     "output_type": "display_data"
    },
    {
     "name": "stdout",
     "output_type": "stream",
     "text": [
      "#################################################\n",
      "Estimated Parameters by EM with Kmeans initialization\n",
      "Prior probability for coin1:0.31530369152313953\n",
      "Probability of head for coin1:0.6659352656434103\n",
      "Prior probability for coin2:0.20261831177194986\n",
      "Probability of head for coin2:0.2587294546111306\n",
      "Prior probability for coin3:0.482077996704911\n",
      "Probability of head for coin3:0.8523617131186518\n"
     ]
    },
    {
     "data": {
      "image/png": "[encoded data removed]",
      "text/plain": [
       "<Figure size 432x288 with 1 Axes>"
      ]
     },
     "metadata": {
      "needs_background": "light"
     },
     "output_type": "display_data"
    }
   ],
   "source": [
    "no_of_clusters = 3\n",
    "no_of_tosses = 20\n",
    "no_of_experiments = 1000\n",
    "\n",
    "#Kmeans experiment\n",
    "kmeans = KMeans(n_clusters=3, random_state=0).fit(x)\n",
    "cluster_assignments = kmeans.labels_\n",
    "\n",
    "coin1_points = cluster_assignments[cluster_assignments == 0]\n",
    "coin2_points = cluster_assignments[cluster_assignments == 1]\n",
    "coin3_points = cluster_assignments[cluster_assignments == 2]\n",
    "\n",
    "coin1_pi = coin1_points.shape[0] / no_of_experiments\n",
    "coin2_pi = coin2_points.shape[0] / no_of_experiments\n",
    "coin3_pi = coin3_points.shape[0] / no_of_experiments\n",
    "\n",
    "theta1 =  kmeans.cluster_centers_[0][0] / no_of_tosses\n",
    "theta2 =  kmeans.cluster_centers_[1][0] / no_of_tosses\n",
    "theta3 =  kmeans.cluster_centers_[2][0] / no_of_tosses\n",
    "\n",
    "pi_kmeans = [coin1_pi,coin2_pi,coin3_pi]\n",
    "theta_kmeans = [theta1,theta2,theta3]\n",
    "\n",
    "print(\"Estimated Parameters by Kmeans clustering algorithm\")\n",
    "print_params(pi_kmeans,theta_kmeans)\n",
    "\n",
    "# pi = np.array([0.333, 0.333, 0.333])\n",
    "# theta = np.array([0.5, 0.6, 0.4])\n",
    "\n",
    "#Non Kmeans initialization\n",
    "pi,theta = initialize_params()\n",
    "iterations,pi,theta,likelihood_list = EM(x,pi,theta,no_of_clusters,no_of_experiments,no_of_tosses)\n",
    "print(\"#################################################\")\n",
    "print(\"Estimated Parameters by EM with random initialization\")\n",
    "print_params(pi,theta)\n",
    "plot_neg_likelihood_vs_iterations(iterations,likelihood_list)\n",
    "\n",
    "\n",
    "\n",
    "#Kmeans initialization\n",
    "pi,theta = np.array(pi_kmeans),np.array(theta_kmeans)\n",
    "iterations,pi,theta,likelihood_list = EM(x,pi,theta,no_of_clusters,no_of_experiments,no_of_tosses)\n",
    "print(\"#################################################\")\n",
    "print(\"Estimated Parameters by EM with Kmeans initialization\")\n",
    "print_params(pi,theta)\n",
    "\n",
    "plot_neg_likelihood_vs_iterations(iterations,likelihood_list)"
   ]
  },
  {
   "cell_type": "markdown",
   "metadata": {
    "collapsed": true,
    "deletable": true,
    "editable": true
   },
   "source": [
    "Observations\n",
    "1) EM with K means output has similar curve as Kmeans output or in fact also similar to random initialization output with respect to prior and head probabilities\n",
    "2) We can see that negative log likelihood flattens out after 15-20 iterations in all the cases"
   ]
  }
 ],
 "metadata": {
  "kernelspec": {
   "display_name": "fsl_env",
   "language": "python",
   "name": "fsl_env"
  },
  "language_info": {
   "codemirror_mode": {
    "name": "ipython",
    "version": 3
   },
   "file_extension": ".py",
   "mimetype": "text/x-python",
   "name": "python",
   "nbconvert_exporter": "python",
   "pygments_lexer": "ipython3",
   "version": "3.6.4"
  }
 },
 "nbformat": 4,
 "nbformat_minor": 2
}
